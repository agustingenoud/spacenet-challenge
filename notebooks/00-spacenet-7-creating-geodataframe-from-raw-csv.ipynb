{
 "cells": [
  {
   "cell_type": "markdown",
   "metadata": {
    "papermill": {
     "duration": 0.031218,
     "end_time": "2020-11-25T14:37:19.292837",
     "exception": false,
     "start_time": "2020-11-25T14:37:19.261619",
     "status": "completed"
    },
    "tags": []
   },
   "source": [
    "# Creating and Packaging GeoDataFrame from CSV"
   ]
  },
  {
   "cell_type": "markdown",
   "metadata": {
    "papermill": {
     "duration": 0.028557,
     "end_time": "2020-11-25T14:37:19.405832",
     "exception": false,
     "start_time": "2020-11-25T14:37:19.377275",
     "status": "completed"
    },
    "tags": []
   },
   "source": [
    "## Import Dependencies"
   ]
  },
  {
   "cell_type": "code",
   "execution_count": 1,
   "metadata": {
    "_cell_guid": "b1076dfc-b9ad-4769-8c92-a6c4dae69d19",
    "_uuid": "8f2839f25d086af736a60e9eeb907d3b93b6e0e5",
    "papermill": {
     "duration": 1.106021,
     "end_time": "2020-11-25T14:37:20.540193",
     "exception": false,
     "start_time": "2020-11-25T14:37:19.434172",
     "status": "completed"
    },
    "tags": []
   },
   "outputs": [],
   "source": [
    "import pandas as pd \n",
    "import re\n",
    "from pathlib import Path\n",
    "import shapely\n",
    "import geopandas as gpd\n",
    "from tqdm.notebook import tqdm\n",
    "tqdm.pandas();"
   ]
  },
  {
   "cell_type": "markdown",
   "metadata": {
    "papermill": {
     "duration": 0.029147,
     "end_time": "2020-11-25T14:37:20.599235",
     "exception": false,
     "start_time": "2020-11-25T14:37:20.570088",
     "status": "completed"
    },
    "tags": []
   },
   "source": [
    "## Define Directory Paths"
   ]
  },
  {
   "cell_type": "code",
   "execution_count": 2,
   "metadata": {
    "_cell_guid": "79c7e3d0-c299-4dcb-8224-4455121ee9b0",
    "_uuid": "d629ff2d2480ee46fbb7e2d37f6b5fab8052498a",
    "papermill": {
     "duration": 0.04108,
     "end_time": "2020-11-25T14:37:20.669299",
     "exception": false,
     "start_time": "2020-11-25T14:37:20.628219",
     "status": "completed"
    },
    "tags": []
   },
   "outputs": [],
   "source": [
    "sample_path = Path('/home/data/sample/L15-0506E-1204N_2027_3374_13')\n",
    "label_csv_path = Path('/home/data/csvs/sn7_train_ground_truth_pix.csv')\n",
    "output_path = Path.cwd().parent / 'data'\n",
    "output_csv_path = output_path/'output_csvs/'\n",
    "Path(output_csv_path).mkdir(parents=True, exist_ok=True)"
   ]
  },
  {
   "cell_type": "code",
   "execution_count": 3,
   "metadata": {
    "papermill": {
     "duration": 20.381708,
     "end_time": "2020-11-25T14:37:41.139180",
     "exception": false,
     "start_time": "2020-11-25T14:37:20.757472",
     "status": "completed"
    },
    "tags": []
   },
   "outputs": [],
   "source": [
    "df = pd.read_csv(label_csv_path)"
   ]
  },
  {
   "cell_type": "code",
   "execution_count": 4,
   "metadata": {
    "papermill": {
     "duration": 0.060844,
     "end_time": "2020-11-25T14:37:41.229482",
     "exception": false,
     "start_time": "2020-11-25T14:37:41.168638",
     "status": "completed"
    },
    "tags": []
   },
   "outputs": [
    {
     "data": {
      "text/html": [
       "<div>\n",
       "<style scoped>\n",
       "    .dataframe tbody tr th:only-of-type {\n",
       "        vertical-align: middle;\n",
       "    }\n",
       "\n",
       "    .dataframe tbody tr th {\n",
       "        vertical-align: top;\n",
       "    }\n",
       "\n",
       "    .dataframe thead th {\n",
       "        text-align: right;\n",
       "    }\n",
       "</style>\n",
       "<table border=\"1\" class=\"dataframe\">\n",
       "  <thead>\n",
       "    <tr style=\"text-align: right;\">\n",
       "      <th></th>\n",
       "      <th>filename</th>\n",
       "      <th>id</th>\n",
       "      <th>geometry</th>\n",
       "    </tr>\n",
       "  </thead>\n",
       "  <tbody>\n",
       "    <tr>\n",
       "      <th>0</th>\n",
       "      <td>global_monthly_2018_01_mosaic_L15-0331E-1257N_...</td>\n",
       "      <td>91</td>\n",
       "      <td>POLYGON ((814.9857745971531 845.6005742002744,...</td>\n",
       "    </tr>\n",
       "    <tr>\n",
       "      <th>1</th>\n",
       "      <td>global_monthly_2018_01_mosaic_L15-0331E-1257N_...</td>\n",
       "      <td>1452</td>\n",
       "      <td>POLYGON ((886.3093001581728 842.7000443374272,...</td>\n",
       "    </tr>\n",
       "    <tr>\n",
       "      <th>2</th>\n",
       "      <td>global_monthly_2018_01_mosaic_L15-0331E-1257N_...</td>\n",
       "      <td>1616</td>\n",
       "      <td>POLYGON ((930.1175056053326 840.4646877695341,...</td>\n",
       "    </tr>\n",
       "    <tr>\n",
       "      <th>3</th>\n",
       "      <td>global_monthly_2018_01_mosaic_L15-0331E-1257N_...</td>\n",
       "      <td>950</td>\n",
       "      <td>POLYGON ((923.3884236379527 840.6308379401453,...</td>\n",
       "    </tr>\n",
       "    <tr>\n",
       "      <th>4</th>\n",
       "      <td>global_monthly_2018_01_mosaic_L15-0331E-1257N_...</td>\n",
       "      <td>1765</td>\n",
       "      <td>POLYGON ((926.2129765632562 838.8862611351069,...</td>\n",
       "    </tr>\n",
       "  </tbody>\n",
       "</table>\n",
       "</div>"
      ],
      "text/plain": [
       "                                            filename    id  \\\n",
       "0  global_monthly_2018_01_mosaic_L15-0331E-1257N_...    91   \n",
       "1  global_monthly_2018_01_mosaic_L15-0331E-1257N_...  1452   \n",
       "2  global_monthly_2018_01_mosaic_L15-0331E-1257N_...  1616   \n",
       "3  global_monthly_2018_01_mosaic_L15-0331E-1257N_...   950   \n",
       "4  global_monthly_2018_01_mosaic_L15-0331E-1257N_...  1765   \n",
       "\n",
       "                                            geometry  \n",
       "0  POLYGON ((814.9857745971531 845.6005742002744,...  \n",
       "1  POLYGON ((886.3093001581728 842.7000443374272,...  \n",
       "2  POLYGON ((930.1175056053326 840.4646877695341,...  \n",
       "3  POLYGON ((923.3884236379527 840.6308379401453,...  \n",
       "4  POLYGON ((926.2129765632562 838.8862611351069,...  "
      ]
     },
     "execution_count": 4,
     "metadata": {},
     "output_type": "execute_result"
    }
   ],
   "source": [
    "df.head()"
   ]
  },
  {
   "cell_type": "markdown",
   "metadata": {
    "papermill": {
     "duration": 0.030021,
     "end_time": "2020-11-25T14:37:41.289555",
     "exception": false,
     "start_time": "2020-11-25T14:37:41.259534",
     "status": "completed"
    },
    "tags": []
   },
   "source": [
    "### Extract File Metadata\n",
    "#### Notes on file names"
   ]
  },
  {
   "cell_type": "markdown",
   "metadata": {
    "papermill": {
     "duration": 0.029801,
     "end_time": "2020-11-25T14:37:41.349384",
     "exception": false,
     "start_time": "2020-11-25T14:37:41.319583",
     "status": "completed"
    },
    "tags": []
   },
   "source": [
    "The function below will use regex to extract the year and month from an input string."
   ]
  },
  {
   "cell_type": "code",
   "execution_count": 5,
   "metadata": {
    "papermill": {
     "duration": 0.04119,
     "end_time": "2020-11-25T14:37:41.420599",
     "exception": false,
     "start_time": "2020-11-25T14:37:41.379409",
     "status": "completed"
    },
    "tags": []
   },
   "outputs": [],
   "source": [
    "def extract_date(string):\n",
    "    pattern = r'(\\d+)'\n",
    "    match = re.findall(pattern=pattern,string=string)\n",
    "    return (match[0],match[1])"
   ]
  },
  {
   "cell_type": "markdown",
   "metadata": {
    "papermill": {
     "duration": 0.029581,
     "end_time": "2020-11-25T14:37:41.480669",
     "exception": false,
     "start_time": "2020-11-25T14:37:41.451088",
     "status": "completed"
    },
    "tags": []
   },
   "source": [
    "The function below will extract the unique file id from the input string."
   ]
  },
  {
   "cell_type": "code",
   "execution_count": 6,
   "metadata": {
    "papermill": {
     "duration": 0.041531,
     "end_time": "2020-11-25T14:37:41.553098",
     "exception": false,
     "start_time": "2020-11-25T14:37:41.511567",
     "status": "completed"
    },
    "tags": []
   },
   "outputs": [],
   "source": [
    "def extract_file_id(string):\n",
    "    pattern = r'_(L.+)'\n",
    "    match = re.findall(pattern=pattern,string=string)\n",
    "    return match[0]"
   ]
  },
  {
   "cell_type": "markdown",
   "metadata": {
    "papermill": {
     "duration": 0.029889,
     "end_time": "2020-11-25T14:37:41.613438",
     "exception": false,
     "start_time": "2020-11-25T14:37:41.583549",
     "status": "completed"
    },
    "tags": []
   },
   "source": [
    "We then map the extrac_date function on the column containing our filename string in our dataframe, and place them in 2 new columns. One column for the year and one for the month."
   ]
  },
  {
   "cell_type": "code",
   "execution_count": 7,
   "metadata": {
    "papermill": {
     "duration": 94.23257,
     "end_time": "2020-11-25T14:39:15.876636",
     "exception": false,
     "start_time": "2020-11-25T14:37:41.644066",
     "status": "completed"
    },
    "tags": []
   },
   "outputs": [
    {
     "data": {
      "application/vnd.jupyter.widget-view+json": {
       "model_id": "47fc76803641448e9247869591373dbb",
       "version_major": 2,
       "version_minor": 0
      },
      "text/plain": [
       "  0%|          | 0/6664652 [00:00<?, ?it/s]"
      ]
     },
     "metadata": {},
     "output_type": "display_data"
    }
   ],
   "source": [
    "df['year'],df['month'] = zip(*df['filename'].progress_map(extract_date))"
   ]
  },
  {
   "cell_type": "markdown",
   "metadata": {
    "papermill": {
     "duration": 0.032053,
     "end_time": "2020-11-25T14:39:15.940601",
     "exception": false,
     "start_time": "2020-11-25T14:39:15.908548",
     "status": "completed"
    },
    "tags": []
   },
   "source": [
    "We do the same for extracting the file_id from the filename string."
   ]
  },
  {
   "cell_type": "code",
   "execution_count": 8,
   "metadata": {
    "papermill": {
     "duration": 38.598199,
     "end_time": "2020-11-25T14:39:54.571114",
     "exception": false,
     "start_time": "2020-11-25T14:39:15.972915",
     "status": "completed"
    },
    "tags": []
   },
   "outputs": [
    {
     "data": {
      "application/vnd.jupyter.widget-view+json": {
       "model_id": "72369df490a24b2d8ccacd1eac018184",
       "version_major": 2,
       "version_minor": 0
      },
      "text/plain": [
       "  0%|          | 0/6664652 [00:00<?, ?it/s]"
      ]
     },
     "metadata": {},
     "output_type": "display_data"
    }
   ],
   "source": [
    "df['file_id'] = df['filename'].progress_map(extract_file_id)"
   ]
  },
  {
   "cell_type": "code",
   "execution_count": 9,
   "metadata": {
    "papermill": {
     "duration": 0.056414,
     "end_time": "2020-11-25T14:39:54.738651",
     "exception": false,
     "start_time": "2020-11-25T14:39:54.682237",
     "status": "completed"
    },
    "tags": []
   },
   "outputs": [
    {
     "data": {
      "text/html": [
       "<div>\n",
       "<style scoped>\n",
       "    .dataframe tbody tr th:only-of-type {\n",
       "        vertical-align: middle;\n",
       "    }\n",
       "\n",
       "    .dataframe tbody tr th {\n",
       "        vertical-align: top;\n",
       "    }\n",
       "\n",
       "    .dataframe thead th {\n",
       "        text-align: right;\n",
       "    }\n",
       "</style>\n",
       "<table border=\"1\" class=\"dataframe\">\n",
       "  <thead>\n",
       "    <tr style=\"text-align: right;\">\n",
       "      <th></th>\n",
       "      <th>filename</th>\n",
       "      <th>id</th>\n",
       "      <th>geometry</th>\n",
       "      <th>year</th>\n",
       "      <th>month</th>\n",
       "      <th>file_id</th>\n",
       "    </tr>\n",
       "  </thead>\n",
       "  <tbody>\n",
       "    <tr>\n",
       "      <th>0</th>\n",
       "      <td>global_monthly_2018_01_mosaic_L15-0331E-1257N_...</td>\n",
       "      <td>91</td>\n",
       "      <td>POLYGON ((814.9857745971531 845.6005742002744,...</td>\n",
       "      <td>2018</td>\n",
       "      <td>01</td>\n",
       "      <td>L15-0331E-1257N_1327_3160_13</td>\n",
       "    </tr>\n",
       "    <tr>\n",
       "      <th>1</th>\n",
       "      <td>global_monthly_2018_01_mosaic_L15-0331E-1257N_...</td>\n",
       "      <td>1452</td>\n",
       "      <td>POLYGON ((886.3093001581728 842.7000443374272,...</td>\n",
       "      <td>2018</td>\n",
       "      <td>01</td>\n",
       "      <td>L15-0331E-1257N_1327_3160_13</td>\n",
       "    </tr>\n",
       "    <tr>\n",
       "      <th>2</th>\n",
       "      <td>global_monthly_2018_01_mosaic_L15-0331E-1257N_...</td>\n",
       "      <td>1616</td>\n",
       "      <td>POLYGON ((930.1175056053326 840.4646877695341,...</td>\n",
       "      <td>2018</td>\n",
       "      <td>01</td>\n",
       "      <td>L15-0331E-1257N_1327_3160_13</td>\n",
       "    </tr>\n",
       "    <tr>\n",
       "      <th>3</th>\n",
       "      <td>global_monthly_2018_01_mosaic_L15-0331E-1257N_...</td>\n",
       "      <td>950</td>\n",
       "      <td>POLYGON ((923.3884236379527 840.6308379401453,...</td>\n",
       "      <td>2018</td>\n",
       "      <td>01</td>\n",
       "      <td>L15-0331E-1257N_1327_3160_13</td>\n",
       "    </tr>\n",
       "    <tr>\n",
       "      <th>4</th>\n",
       "      <td>global_monthly_2018_01_mosaic_L15-0331E-1257N_...</td>\n",
       "      <td>1765</td>\n",
       "      <td>POLYGON ((926.2129765632562 838.8862611351069,...</td>\n",
       "      <td>2018</td>\n",
       "      <td>01</td>\n",
       "      <td>L15-0331E-1257N_1327_3160_13</td>\n",
       "    </tr>\n",
       "  </tbody>\n",
       "</table>\n",
       "</div>"
      ],
      "text/plain": [
       "                                            filename    id  \\\n",
       "0  global_monthly_2018_01_mosaic_L15-0331E-1257N_...    91   \n",
       "1  global_monthly_2018_01_mosaic_L15-0331E-1257N_...  1452   \n",
       "2  global_monthly_2018_01_mosaic_L15-0331E-1257N_...  1616   \n",
       "3  global_monthly_2018_01_mosaic_L15-0331E-1257N_...   950   \n",
       "4  global_monthly_2018_01_mosaic_L15-0331E-1257N_...  1765   \n",
       "\n",
       "                                            geometry  year month  \\\n",
       "0  POLYGON ((814.9857745971531 845.6005742002744,...  2018    01   \n",
       "1  POLYGON ((886.3093001581728 842.7000443374272,...  2018    01   \n",
       "2  POLYGON ((930.1175056053326 840.4646877695341,...  2018    01   \n",
       "3  POLYGON ((923.3884236379527 840.6308379401453,...  2018    01   \n",
       "4  POLYGON ((926.2129765632562 838.8862611351069,...  2018    01   \n",
       "\n",
       "                        file_id  \n",
       "0  L15-0331E-1257N_1327_3160_13  \n",
       "1  L15-0331E-1257N_1327_3160_13  \n",
       "2  L15-0331E-1257N_1327_3160_13  \n",
       "3  L15-0331E-1257N_1327_3160_13  \n",
       "4  L15-0331E-1257N_1327_3160_13  "
      ]
     },
     "execution_count": 9,
     "metadata": {},
     "output_type": "execute_result"
    }
   ],
   "source": [
    "df.head()"
   ]
  },
  {
   "cell_type": "code",
   "execution_count": 10,
   "metadata": {
    "papermill": {
     "duration": 2.171758,
     "end_time": "2020-11-25T14:39:57.146911",
     "exception": false,
     "start_time": "2020-11-25T14:39:54.975153",
     "status": "completed"
    },
    "tags": []
   },
   "outputs": [
    {
     "data": {
      "text/plain": [
       "2019    3218079\n",
       "2018    3108106\n",
       "2020     251332\n",
       "2017      87135\n",
       "Name: year, dtype: int64"
      ]
     },
     "execution_count": 10,
     "metadata": {},
     "output_type": "execute_result"
    }
   ],
   "source": [
    "df['year'].value_counts()"
   ]
  },
  {
   "cell_type": "code",
   "execution_count": 11,
   "metadata": {
    "papermill": {
     "duration": 2.124683,
     "end_time": "2020-11-25T14:39:59.306005",
     "exception": false,
     "start_time": "2020-11-25T14:39:57.181322",
     "status": "completed"
    },
    "tags": []
   },
   "outputs": [
    {
     "data": {
      "text/plain": [
       "01    768692\n",
       "04    576131\n",
       "03    574213\n",
       "11    568068\n",
       "02    536911\n",
       "10    535662\n",
       "05    532413\n",
       "09    530252\n",
       "12    521228\n",
       "08    520019\n",
       "06    509831\n",
       "07    491232\n",
       "Name: month, dtype: int64"
      ]
     },
     "execution_count": 11,
     "metadata": {},
     "output_type": "execute_result"
    }
   ],
   "source": [
    "df['month'].value_counts()"
   ]
  },
  {
   "cell_type": "markdown",
   "metadata": {
    "papermill": {
     "duration": 0.040744,
     "end_time": "2020-11-25T14:39:59.398465",
     "exception": false,
     "start_time": "2020-11-25T14:39:59.357721",
     "status": "completed"
    },
    "tags": []
   },
   "source": [
    "### Convert Well Known Text (WKT) format to shapely polygons"
   ]
  },
  {
   "cell_type": "code",
   "execution_count": 12,
   "metadata": {
    "papermill": {
     "duration": 211.493158,
     "end_time": "2020-11-25T14:43:31.007153",
     "exception": false,
     "start_time": "2020-11-25T14:39:59.513995",
     "status": "completed"
    },
    "tags": []
   },
   "outputs": [
    {
     "data": {
      "application/vnd.jupyter.widget-view+json": {
       "model_id": "ded0934d6da24ace970c8c36eef2d3ba",
       "version_major": 2,
       "version_minor": 0
      },
      "text/plain": [
       "  0%|          | 0/6664652 [00:00<?, ?it/s]"
      ]
     },
     "metadata": {},
     "output_type": "display_data"
    }
   ],
   "source": [
    "gdf = gpd.GeoDataFrame(df)\n",
    "gdf['geometry'] = gdf['geometry'].progress_map(shapely.wkt.loads)"
   ]
  },
  {
   "cell_type": "code",
   "execution_count": 13,
   "metadata": {
    "papermill": {
     "duration": 0.047898,
     "end_time": "2020-11-25T14:43:31.092064",
     "exception": false,
     "start_time": "2020-11-25T14:43:31.044166",
     "status": "completed"
    },
    "tags": []
   },
   "outputs": [
    {
     "name": "stdout",
     "output_type": "stream",
     "text": [
      "data type of geometry column before conversion:  geometry\n",
      "data type of geometry column after conversion:  geometry\n"
     ]
    }
   ],
   "source": [
    "print('data type of geometry column before conversion: ', df['geometry'].dtype)\n",
    "print('data type of geometry column after conversion: ', gdf['geometry'].dtype)"
   ]
  },
  {
   "cell_type": "code",
   "execution_count": 14,
   "metadata": {
    "papermill": {
     "duration": 0.061534,
     "end_time": "2020-11-25T14:43:31.263776",
     "exception": false,
     "start_time": "2020-11-25T14:43:31.202242",
     "status": "completed"
    },
    "tags": []
   },
   "outputs": [
    {
     "data": {
      "image/svg+xml": [
       "<svg xmlns=\"http://www.w3.org/2000/svg\" xmlns:xlink=\"http://www.w3.org/1999/xlink\" width=\"100.0\" height=\"100.0\" viewBox=\"809.9348093659663 838.1127397786639 5.3389588627871944 7.775828053210944\" preserveAspectRatio=\"xMinYMin meet\"><g transform=\"matrix(1,0,0,-1,0,1684.0013076105388)\"><path fill-rule=\"evenodd\" fill=\"#66cc99\" stroke=\"#555555\" stroke-width=\"0.15551656106421888\" opacity=\"0.6\" d=\"M 814.9857745971531,845.6005742002744 L 810.2228029975668,845.6005742002744 L 810.2228029975668,838.4007334102644 L 814.9857745971531,838.4007334102644 L 814.9857745971531,845.6005742002744 z\" /></g></svg>"
      ],
      "text/plain": [
       "<shapely.geometry.polygon.Polygon at 0xffff441cfc40>"
      ]
     },
     "metadata": {},
     "output_type": "display_data"
    },
    {
     "name": "stdout",
     "output_type": "stream",
     "text": [
      "POLYGON ((814.9857745971531 845.6005742002744, 810.2228029975668 845.6005742002744, 810.2228029975668 838.4007334102644, 814.9857745971531 838.4007334102644, 814.9857745971531 845.6005742002744))\n"
     ]
    },
    {
     "data": {
      "image/svg+xml": [
       "<svg xmlns=\"http://www.w3.org/2000/svg\" xmlns:xlink=\"http://www.w3.org/1999/xlink\" width=\"100.0\" height=\"100.0\" viewBox=\"883.5711453230447 838.466537952479 2.9009820037799727 4.396333553600016\" preserveAspectRatio=\"xMinYMin meet\"><g transform=\"matrix(1,0,0,-1,0,1681.329409458558)\"><path fill-rule=\"evenodd\" fill=\"#66cc99\" stroke=\"#555555\" stroke-width=\"0.08792667107200032\" opacity=\"0.6\" d=\"M 886.3093001581728,842.7000443374272 L 883.7339724916965,842.7000443374272 L 883.7339724916965,838.6293651211308 L 886.3093001581728,838.6293651211308 L 886.3093001581728,842.7000443374272 z\" /></g></svg>"
      ],
      "text/plain": [
       "<shapely.geometry.polygon.Polygon at 0xffff441cffd0>"
      ]
     },
     "metadata": {},
     "output_type": "display_data"
    }
   ],
   "source": [
    "display(df['geometry'][0])\n",
    "print(gdf['geometry'][0])\n",
    "display(gdf['geometry'][1])"
   ]
  },
  {
   "cell_type": "markdown",
   "metadata": {
    "papermill": {
     "duration": 0.038697,
     "end_time": "2020-11-25T14:43:31.342378",
     "exception": false,
     "start_time": "2020-11-25T14:43:31.303681",
     "status": "completed"
    },
    "tags": []
   },
   "source": [
    "### Set the Coordinate Reference System (crs) of our GeoDataFrame"
   ]
  },
  {
   "cell_type": "code",
   "execution_count": 15,
   "metadata": {
    "papermill": {
     "duration": 0.098787,
     "end_time": "2020-11-25T14:43:31.559194",
     "exception": false,
     "start_time": "2020-11-25T14:43:31.460407",
     "status": "completed"
    },
    "tags": []
   },
   "outputs": [],
   "source": [
    "gdf.crs = 'EPSG:4326'"
   ]
  },
  {
   "cell_type": "code",
   "execution_count": 16,
   "metadata": {
    "papermill": {
     "duration": 0.051312,
     "end_time": "2020-11-25T14:43:31.649314",
     "exception": false,
     "start_time": "2020-11-25T14:43:31.598002",
     "status": "completed"
    },
    "tags": []
   },
   "outputs": [
    {
     "data": {
      "text/plain": [
       "<Geographic 2D CRS: EPSG:4326>\n",
       "Name: WGS 84\n",
       "Axis Info [ellipsoidal]:\n",
       "- Lat[north]: Geodetic latitude (degree)\n",
       "- Lon[east]: Geodetic longitude (degree)\n",
       "Area of Use:\n",
       "- name: World.\n",
       "- bounds: (-180.0, -90.0, 180.0, 90.0)\n",
       "Datum: World Geodetic System 1984 ensemble\n",
       "- Ellipsoid: WGS 84\n",
       "- Prime Meridian: Greenwich"
      ]
     },
     "execution_count": 16,
     "metadata": {},
     "output_type": "execute_result"
    }
   ],
   "source": [
    "gdf.crs"
   ]
  },
  {
   "cell_type": "markdown",
   "metadata": {
    "papermill": {
     "duration": 0.039044,
     "end_time": "2020-11-25T14:43:31.727980",
     "exception": false,
     "start_time": "2020-11-25T14:43:31.688936",
     "status": "completed"
    },
    "tags": []
   },
   "source": [
    "## Saving as GeoDataFrames"
   ]
  },
  {
   "cell_type": "code",
   "execution_count": null,
   "metadata": {
    "papermill": {
     "duration": 1456.099045,
     "end_time": "2020-11-25T15:07:47.867385",
     "exception": false,
     "start_time": "2020-11-25T14:43:31.768340",
     "status": "completed"
    },
    "tags": []
   },
   "outputs": [],
   "source": [
    "gdf.to_file(output_csv_path/\"global_geodataframe.gpkg\", driver=\"GPKG\")"
   ]
  },
  {
   "cell_type": "markdown",
   "metadata": {
    "papermill": {
     "duration": 0.039587,
     "end_time": "2020-11-25T15:07:47.947540",
     "exception": false,
     "start_time": "2020-11-25T15:07:47.907953",
     "status": "completed"
    },
    "tags": []
   },
   "source": [
    "We will also extract a subset of our labels, that correspond to the SpaceNet 7 building training sample images."
   ]
  },
  {
   "cell_type": "code",
   "execution_count": 17,
   "metadata": {
    "papermill": {
     "duration": 0.049262,
     "end_time": "2020-11-25T15:07:48.037062",
     "exception": false,
     "start_time": "2020-11-25T15:07:47.987800",
     "status": "completed"
    },
    "tags": []
   },
   "outputs": [],
   "source": [
    "sample_image_id = 'L15-0506E-1204N_2027_3374_13'"
   ]
  },
  {
   "cell_type": "code",
   "execution_count": 18,
   "metadata": {
    "papermill": {
     "duration": 1.313274,
     "end_time": "2020-11-25T15:07:49.390035",
     "exception": false,
     "start_time": "2020-11-25T15:07:48.076761",
     "status": "completed"
    },
    "tags": []
   },
   "outputs": [],
   "source": [
    "sample_gdf = gdf[gdf['file_id'] == sample_image_id].copy()"
   ]
  },
  {
   "cell_type": "code",
   "execution_count": 19,
   "metadata": {
    "papermill": {
     "duration": 0.058568,
     "end_time": "2020-11-25T15:07:49.489747",
     "exception": false,
     "start_time": "2020-11-25T15:07:49.431179",
     "status": "completed"
    },
    "tags": []
   },
   "outputs": [
    {
     "data": {
      "text/plain": [
       "2142    24\n",
       "1202    24\n",
       "1162    24\n",
       "1179    24\n",
       "1082    24\n",
       "        ..\n",
       "2472     2\n",
       "2474     2\n",
       "2477     2\n",
       "2479     1\n",
       "2478     1\n",
       "Name: id, Length: 2480, dtype: int64"
      ]
     },
     "execution_count": 19,
     "metadata": {},
     "output_type": "execute_result"
    }
   ],
   "source": [
    "sample_gdf['id'].value_counts()"
   ]
  },
  {
   "cell_type": "code",
   "execution_count": 20,
   "metadata": {
    "papermill": {
     "duration": 11.520572,
     "end_time": "2020-11-25T15:08:01.051200",
     "exception": false,
     "start_time": "2020-11-25T15:07:49.530628",
     "status": "completed"
    },
    "tags": []
   },
   "outputs": [],
   "source": [
    "sample_gdf.to_file(output_csv_path/\"sample_geodataframe.gpkg\", driver=\"GPKG\")"
   ]
  },
  {
   "cell_type": "code",
   "execution_count": null,
   "metadata": {},
   "outputs": [],
   "source": []
  }
 ],
 "metadata": {
  "kernelspec": {
   "display_name": "Python 3 (ipykernel)",
   "language": "python",
   "name": "python3"
  },
  "language_info": {
   "codemirror_mode": {
    "name": "ipython",
    "version": 3
   },
   "file_extension": ".py",
   "mimetype": "text/x-python",
   "name": "python",
   "nbconvert_exporter": "python",
   "pygments_lexer": "ipython3",
   "version": "3.9.13"
  },
  "papermill": {
   "duration": 1848.845014,
   "end_time": "2020-11-25T15:08:02.438071",
   "environment_variables": {},
   "exception": null,
   "input_path": "__notebook__.ipynb",
   "output_path": "__notebook__.ipynb",
   "parameters": {},
   "start_time": "2020-11-25T14:37:13.593057",
   "version": "2.1.0"
  },
  "vscode": {
   "interpreter": {
    "hash": "0482cfbd23fec52e9bb6e886bbc4c330bc05a0354edc96e1b8d7e0e01b9b55af"
   }
  },
  "widgets": {
   "application/vnd.jupyter.widget-state+json": {
    "state": {
     "0483be25f2cd482a83f44cd995ebde49": {
      "model_module": "@jupyter-widgets/controls",
      "model_module_version": "1.5.0",
      "model_name": "HBoxModel",
      "state": {
       "_dom_classes": [],
       "_model_module": "@jupyter-widgets/controls",
       "_model_module_version": "1.5.0",
       "_model_name": "HBoxModel",
       "_view_count": null,
       "_view_module": "@jupyter-widgets/controls",
       "_view_module_version": "1.5.0",
       "_view_name": "HBoxView",
       "box_style": "",
       "children": [
        "IPY_MODEL_46eaba34ce864d649ee81369019431f8",
        "IPY_MODEL_7723902c47194e9a966261f703e7c5ec"
       ],
       "layout": "IPY_MODEL_39cec8ae634d405f87ca6d33fbd79368"
      }
     },
     "1b33003d272a43d595bb1bbcfb6e5372": {
      "model_module": "@jupyter-widgets/controls",
      "model_module_version": "1.5.0",
      "model_name": "DescriptionStyleModel",
      "state": {
       "_model_module": "@jupyter-widgets/controls",
       "_model_module_version": "1.5.0",
       "_model_name": "DescriptionStyleModel",
       "_view_count": null,
       "_view_module": "@jupyter-widgets/base",
       "_view_module_version": "1.2.0",
       "_view_name": "StyleView",
       "description_width": ""
      }
     },
     "1eb60cef5c0d419986780a3fc7fda126": {
      "model_module": "@jupyter-widgets/controls",
      "model_module_version": "1.5.0",
      "model_name": "FloatProgressModel",
      "state": {
       "_dom_classes": [],
       "_model_module": "@jupyter-widgets/controls",
       "_model_module_version": "1.5.0",
       "_model_name": "FloatProgressModel",
       "_view_count": null,
       "_view_module": "@jupyter-widgets/controls",
       "_view_module_version": "1.5.0",
       "_view_name": "ProgressView",
       "bar_style": "success",
       "description": "100%",
       "description_tooltip": null,
       "layout": "IPY_MODEL_45d203f640a44e29845130f4a1cdc458",
       "max": 6664652,
       "min": 0,
       "orientation": "horizontal",
       "style": "IPY_MODEL_9509f91fcef84758aa9fe55d36f65fb7",
       "value": 6664652
      }
     },
     "20aab2f71277418b9d3263d5590f8358": {
      "model_module": "@jupyter-widgets/base",
      "model_module_version": "1.2.0",
      "model_name": "LayoutModel",
      "state": {
       "_model_module": "@jupyter-widgets/base",
       "_model_module_version": "1.2.0",
       "_model_name": "LayoutModel",
       "_view_count": null,
       "_view_module": "@jupyter-widgets/base",
       "_view_module_version": "1.2.0",
       "_view_name": "LayoutView",
       "align_content": null,
       "align_items": null,
       "align_self": null,
       "border": null,
       "bottom": null,
       "display": null,
       "flex": null,
       "flex_flow": null,
       "grid_area": null,
       "grid_auto_columns": null,
       "grid_auto_flow": null,
       "grid_auto_rows": null,
       "grid_column": null,
       "grid_gap": null,
       "grid_row": null,
       "grid_template_areas": null,
       "grid_template_columns": null,
       "grid_template_rows": null,
       "height": null,
       "justify_content": null,
       "justify_items": null,
       "left": null,
       "margin": null,
       "max_height": null,
       "max_width": null,
       "min_height": null,
       "min_width": null,
       "object_fit": null,
       "object_position": null,
       "order": null,
       "overflow": null,
       "overflow_x": null,
       "overflow_y": null,
       "padding": null,
       "right": null,
       "top": null,
       "visibility": null,
       "width": null
      }
     },
     "2f877020f74d418d9a76478c8ba55150": {
      "model_module": "@jupyter-widgets/controls",
      "model_module_version": "1.5.0",
      "model_name": "HBoxModel",
      "state": {
       "_dom_classes": [],
       "_model_module": "@jupyter-widgets/controls",
       "_model_module_version": "1.5.0",
       "_model_name": "HBoxModel",
       "_view_count": null,
       "_view_module": "@jupyter-widgets/controls",
       "_view_module_version": "1.5.0",
       "_view_name": "HBoxView",
       "box_style": "",
       "children": [
        "IPY_MODEL_3c20764c77fc40b7b5c07579dec98734",
        "IPY_MODEL_4045ccda617440f3b75a1e59b7745d00"
       ],
       "layout": "IPY_MODEL_51b3e66c2d9e45e4abfd97de889eb43c"
      }
     },
     "39cec8ae634d405f87ca6d33fbd79368": {
      "model_module": "@jupyter-widgets/base",
      "model_module_version": "1.2.0",
      "model_name": "LayoutModel",
      "state": {
       "_model_module": "@jupyter-widgets/base",
       "_model_module_version": "1.2.0",
       "_model_name": "LayoutModel",
       "_view_count": null,
       "_view_module": "@jupyter-widgets/base",
       "_view_module_version": "1.2.0",
       "_view_name": "LayoutView",
       "align_content": null,
       "align_items": null,
       "align_self": null,
       "border": null,
       "bottom": null,
       "display": null,
       "flex": null,
       "flex_flow": null,
       "grid_area": null,
       "grid_auto_columns": null,
       "grid_auto_flow": null,
       "grid_auto_rows": null,
       "grid_column": null,
       "grid_gap": null,
       "grid_row": null,
       "grid_template_areas": null,
       "grid_template_columns": null,
       "grid_template_rows": null,
       "height": null,
       "justify_content": null,
       "justify_items": null,
       "left": null,
       "margin": null,
       "max_height": null,
       "max_width": null,
       "min_height": null,
       "min_width": null,
       "object_fit": null,
       "object_position": null,
       "order": null,
       "overflow": null,
       "overflow_x": null,
       "overflow_y": null,
       "padding": null,
       "right": null,
       "top": null,
       "visibility": null,
       "width": null
      }
     },
     "3c20764c77fc40b7b5c07579dec98734": {
      "model_module": "@jupyter-widgets/controls",
      "model_module_version": "1.5.0",
      "model_name": "FloatProgressModel",
      "state": {
       "_dom_classes": [],
       "_model_module": "@jupyter-widgets/controls",
       "_model_module_version": "1.5.0",
       "_model_name": "FloatProgressModel",
       "_view_count": null,
       "_view_module": "@jupyter-widgets/controls",
       "_view_module_version": "1.5.0",
       "_view_name": "ProgressView",
       "bar_style": "success",
       "description": "100%",
       "description_tooltip": null,
       "layout": "IPY_MODEL_9709b2540e654d9895d061c76692288e",
       "max": 6664652,
       "min": 0,
       "orientation": "horizontal",
       "style": "IPY_MODEL_ac0ea00d4c5e4bf099c21f6cf2ab4fd9",
       "value": 6664652
      }
     },
     "4045ccda617440f3b75a1e59b7745d00": {
      "model_module": "@jupyter-widgets/controls",
      "model_module_version": "1.5.0",
      "model_name": "HTMLModel",
      "state": {
       "_dom_classes": [],
       "_model_module": "@jupyter-widgets/controls",
       "_model_module_version": "1.5.0",
       "_model_name": "HTMLModel",
       "_view_count": null,
       "_view_module": "@jupyter-widgets/controls",
       "_view_module_version": "1.5.0",
       "_view_name": "HTMLView",
       "description": "",
       "description_tooltip": null,
       "layout": "IPY_MODEL_9aab782906824b1cafa6f400799b6543",
       "placeholder": "​",
       "style": "IPY_MODEL_1b33003d272a43d595bb1bbcfb6e5372",
       "value": " 6664652/6664652 [00:43&lt;00:00, 153032.60it/s]"
      }
     },
     "45d203f640a44e29845130f4a1cdc458": {
      "model_module": "@jupyter-widgets/base",
      "model_module_version": "1.2.0",
      "model_name": "LayoutModel",
      "state": {
       "_model_module": "@jupyter-widgets/base",
       "_model_module_version": "1.2.0",
       "_model_name": "LayoutModel",
       "_view_count": null,
       "_view_module": "@jupyter-widgets/base",
       "_view_module_version": "1.2.0",
       "_view_name": "LayoutView",
       "align_content": null,
       "align_items": null,
       "align_self": null,
       "border": null,
       "bottom": null,
       "display": null,
       "flex": null,
       "flex_flow": null,
       "grid_area": null,
       "grid_auto_columns": null,
       "grid_auto_flow": null,
       "grid_auto_rows": null,
       "grid_column": null,
       "grid_gap": null,
       "grid_row": null,
       "grid_template_areas": null,
       "grid_template_columns": null,
       "grid_template_rows": null,
       "height": null,
       "justify_content": null,
       "justify_items": null,
       "left": null,
       "margin": null,
       "max_height": null,
       "max_width": null,
       "min_height": null,
       "min_width": null,
       "object_fit": null,
       "object_position": null,
       "order": null,
       "overflow": null,
       "overflow_x": null,
       "overflow_y": null,
       "padding": null,
       "right": null,
       "top": null,
       "visibility": null,
       "width": null
      }
     },
     "46eaba34ce864d649ee81369019431f8": {
      "model_module": "@jupyter-widgets/controls",
      "model_module_version": "1.5.0",
      "model_name": "FloatProgressModel",
      "state": {
       "_dom_classes": [],
       "_model_module": "@jupyter-widgets/controls",
       "_model_module_version": "1.5.0",
       "_model_name": "FloatProgressModel",
       "_view_count": null,
       "_view_module": "@jupyter-widgets/controls",
       "_view_module_version": "1.5.0",
       "_view_name": "ProgressView",
       "bar_style": "success",
       "description": "100%",
       "description_tooltip": null,
       "layout": "IPY_MODEL_20aab2f71277418b9d3263d5590f8358",
       "max": 6664652,
       "min": 0,
       "orientation": "horizontal",
       "style": "IPY_MODEL_9a5d0819c34d4708a64d02138d114608",
       "value": 6664652
      }
     },
     "4982da5e7c0d41f18111117ad7b89465": {
      "model_module": "@jupyter-widgets/base",
      "model_module_version": "1.2.0",
      "model_name": "LayoutModel",
      "state": {
       "_model_module": "@jupyter-widgets/base",
       "_model_module_version": "1.2.0",
       "_model_name": "LayoutModel",
       "_view_count": null,
       "_view_module": "@jupyter-widgets/base",
       "_view_module_version": "1.2.0",
       "_view_name": "LayoutView",
       "align_content": null,
       "align_items": null,
       "align_self": null,
       "border": null,
       "bottom": null,
       "display": null,
       "flex": null,
       "flex_flow": null,
       "grid_area": null,
       "grid_auto_columns": null,
       "grid_auto_flow": null,
       "grid_auto_rows": null,
       "grid_column": null,
       "grid_gap": null,
       "grid_row": null,
       "grid_template_areas": null,
       "grid_template_columns": null,
       "grid_template_rows": null,
       "height": null,
       "justify_content": null,
       "justify_items": null,
       "left": null,
       "margin": null,
       "max_height": null,
       "max_width": null,
       "min_height": null,
       "min_width": null,
       "object_fit": null,
       "object_position": null,
       "order": null,
       "overflow": null,
       "overflow_x": null,
       "overflow_y": null,
       "padding": null,
       "right": null,
       "top": null,
       "visibility": null,
       "width": null
      }
     },
     "499b21ab19ba4b6fa813279144611707": {
      "model_module": "@jupyter-widgets/controls",
      "model_module_version": "1.5.0",
      "model_name": "HBoxModel",
      "state": {
       "_dom_classes": [],
       "_model_module": "@jupyter-widgets/controls",
       "_model_module_version": "1.5.0",
       "_model_name": "HBoxModel",
       "_view_count": null,
       "_view_module": "@jupyter-widgets/controls",
       "_view_module_version": "1.5.0",
       "_view_name": "HBoxView",
       "box_style": "",
       "children": [
        "IPY_MODEL_1eb60cef5c0d419986780a3fc7fda126",
        "IPY_MODEL_a37d492a95ca4f72bd25d1ed0fb1ded0"
       ],
       "layout": "IPY_MODEL_4982da5e7c0d41f18111117ad7b89465"
      }
     },
     "51b3e66c2d9e45e4abfd97de889eb43c": {
      "model_module": "@jupyter-widgets/base",
      "model_module_version": "1.2.0",
      "model_name": "LayoutModel",
      "state": {
       "_model_module": "@jupyter-widgets/base",
       "_model_module_version": "1.2.0",
       "_model_name": "LayoutModel",
       "_view_count": null,
       "_view_module": "@jupyter-widgets/base",
       "_view_module_version": "1.2.0",
       "_view_name": "LayoutView",
       "align_content": null,
       "align_items": null,
       "align_self": null,
       "border": null,
       "bottom": null,
       "display": null,
       "flex": null,
       "flex_flow": null,
       "grid_area": null,
       "grid_auto_columns": null,
       "grid_auto_flow": null,
       "grid_auto_rows": null,
       "grid_column": null,
       "grid_gap": null,
       "grid_row": null,
       "grid_template_areas": null,
       "grid_template_columns": null,
       "grid_template_rows": null,
       "height": null,
       "justify_content": null,
       "justify_items": null,
       "left": null,
       "margin": null,
       "max_height": null,
       "max_width": null,
       "min_height": null,
       "min_width": null,
       "object_fit": null,
       "object_position": null,
       "order": null,
       "overflow": null,
       "overflow_x": null,
       "overflow_y": null,
       "padding": null,
       "right": null,
       "top": null,
       "visibility": null,
       "width": null
      }
     },
     "53d39d69621e4207bdbd974a62105b77": {
      "model_module": "@jupyter-widgets/base",
      "model_module_version": "1.2.0",
      "model_name": "LayoutModel",
      "state": {
       "_model_module": "@jupyter-widgets/base",
       "_model_module_version": "1.2.0",
       "_model_name": "LayoutModel",
       "_view_count": null,
       "_view_module": "@jupyter-widgets/base",
       "_view_module_version": "1.2.0",
       "_view_name": "LayoutView",
       "align_content": null,
       "align_items": null,
       "align_self": null,
       "border": null,
       "bottom": null,
       "display": null,
       "flex": null,
       "flex_flow": null,
       "grid_area": null,
       "grid_auto_columns": null,
       "grid_auto_flow": null,
       "grid_auto_rows": null,
       "grid_column": null,
       "grid_gap": null,
       "grid_row": null,
       "grid_template_areas": null,
       "grid_template_columns": null,
       "grid_template_rows": null,
       "height": null,
       "justify_content": null,
       "justify_items": null,
       "left": null,
       "margin": null,
       "max_height": null,
       "max_width": null,
       "min_height": null,
       "min_width": null,
       "object_fit": null,
       "object_position": null,
       "order": null,
       "overflow": null,
       "overflow_x": null,
       "overflow_y": null,
       "padding": null,
       "right": null,
       "top": null,
       "visibility": null,
       "width": null
      }
     },
     "7723902c47194e9a966261f703e7c5ec": {
      "model_module": "@jupyter-widgets/controls",
      "model_module_version": "1.5.0",
      "model_name": "HTMLModel",
      "state": {
       "_dom_classes": [],
       "_model_module": "@jupyter-widgets/controls",
       "_model_module_version": "1.5.0",
       "_model_name": "HTMLModel",
       "_view_count": null,
       "_view_module": "@jupyter-widgets/controls",
       "_view_module_version": "1.5.0",
       "_view_name": "HTMLView",
       "description": "",
       "description_tooltip": null,
       "layout": "IPY_MODEL_53d39d69621e4207bdbd974a62105b77",
       "placeholder": "​",
       "style": "IPY_MODEL_b2c99e94d170456788f02472397f247e",
       "value": " 6664652/6664652 [06:58&lt;00:00, 15922.82it/s]"
      }
     },
     "9509f91fcef84758aa9fe55d36f65fb7": {
      "model_module": "@jupyter-widgets/controls",
      "model_module_version": "1.5.0",
      "model_name": "ProgressStyleModel",
      "state": {
       "_model_module": "@jupyter-widgets/controls",
       "_model_module_version": "1.5.0",
       "_model_name": "ProgressStyleModel",
       "_view_count": null,
       "_view_module": "@jupyter-widgets/base",
       "_view_module_version": "1.2.0",
       "_view_name": "StyleView",
       "bar_color": null,
       "description_width": "initial"
      }
     },
     "9709b2540e654d9895d061c76692288e": {
      "model_module": "@jupyter-widgets/base",
      "model_module_version": "1.2.0",
      "model_name": "LayoutModel",
      "state": {
       "_model_module": "@jupyter-widgets/base",
       "_model_module_version": "1.2.0",
       "_model_name": "LayoutModel",
       "_view_count": null,
       "_view_module": "@jupyter-widgets/base",
       "_view_module_version": "1.2.0",
       "_view_name": "LayoutView",
       "align_content": null,
       "align_items": null,
       "align_self": null,
       "border": null,
       "bottom": null,
       "display": null,
       "flex": null,
       "flex_flow": null,
       "grid_area": null,
       "grid_auto_columns": null,
       "grid_auto_flow": null,
       "grid_auto_rows": null,
       "grid_column": null,
       "grid_gap": null,
       "grid_row": null,
       "grid_template_areas": null,
       "grid_template_columns": null,
       "grid_template_rows": null,
       "height": null,
       "justify_content": null,
       "justify_items": null,
       "left": null,
       "margin": null,
       "max_height": null,
       "max_width": null,
       "min_height": null,
       "min_width": null,
       "object_fit": null,
       "object_position": null,
       "order": null,
       "overflow": null,
       "overflow_x": null,
       "overflow_y": null,
       "padding": null,
       "right": null,
       "top": null,
       "visibility": null,
       "width": null
      }
     },
     "9a5d0819c34d4708a64d02138d114608": {
      "model_module": "@jupyter-widgets/controls",
      "model_module_version": "1.5.0",
      "model_name": "ProgressStyleModel",
      "state": {
       "_model_module": "@jupyter-widgets/controls",
       "_model_module_version": "1.5.0",
       "_model_name": "ProgressStyleModel",
       "_view_count": null,
       "_view_module": "@jupyter-widgets/base",
       "_view_module_version": "1.2.0",
       "_view_name": "StyleView",
       "bar_color": null,
       "description_width": "initial"
      }
     },
     "9aab782906824b1cafa6f400799b6543": {
      "model_module": "@jupyter-widgets/base",
      "model_module_version": "1.2.0",
      "model_name": "LayoutModel",
      "state": {
       "_model_module": "@jupyter-widgets/base",
       "_model_module_version": "1.2.0",
       "_model_name": "LayoutModel",
       "_view_count": null,
       "_view_module": "@jupyter-widgets/base",
       "_view_module_version": "1.2.0",
       "_view_name": "LayoutView",
       "align_content": null,
       "align_items": null,
       "align_self": null,
       "border": null,
       "bottom": null,
       "display": null,
       "flex": null,
       "flex_flow": null,
       "grid_area": null,
       "grid_auto_columns": null,
       "grid_auto_flow": null,
       "grid_auto_rows": null,
       "grid_column": null,
       "grid_gap": null,
       "grid_row": null,
       "grid_template_areas": null,
       "grid_template_columns": null,
       "grid_template_rows": null,
       "height": null,
       "justify_content": null,
       "justify_items": null,
       "left": null,
       "margin": null,
       "max_height": null,
       "max_width": null,
       "min_height": null,
       "min_width": null,
       "object_fit": null,
       "object_position": null,
       "order": null,
       "overflow": null,
       "overflow_x": null,
       "overflow_y": null,
       "padding": null,
       "right": null,
       "top": null,
       "visibility": null,
       "width": null
      }
     },
     "a37d492a95ca4f72bd25d1ed0fb1ded0": {
      "model_module": "@jupyter-widgets/controls",
      "model_module_version": "1.5.0",
      "model_name": "HTMLModel",
      "state": {
       "_dom_classes": [],
       "_model_module": "@jupyter-widgets/controls",
       "_model_module_version": "1.5.0",
       "_model_name": "HTMLModel",
       "_view_count": null,
       "_view_module": "@jupyter-widgets/controls",
       "_view_module_version": "1.5.0",
       "_view_name": "HTMLView",
       "description": "",
       "description_tooltip": null,
       "layout": "IPY_MODEL_b90eb572e42245508e8c583028ec6da4",
       "placeholder": "​",
       "style": "IPY_MODEL_b7df85c9dcca44129b3df9f62c6160e8",
       "value": " 6664652/6664652 [01:22&lt;00:00, 81262.14it/s]"
      }
     },
     "ac0ea00d4c5e4bf099c21f6cf2ab4fd9": {
      "model_module": "@jupyter-widgets/controls",
      "model_module_version": "1.5.0",
      "model_name": "ProgressStyleModel",
      "state": {
       "_model_module": "@jupyter-widgets/controls",
       "_model_module_version": "1.5.0",
       "_model_name": "ProgressStyleModel",
       "_view_count": null,
       "_view_module": "@jupyter-widgets/base",
       "_view_module_version": "1.2.0",
       "_view_name": "StyleView",
       "bar_color": null,
       "description_width": "initial"
      }
     },
     "b2c99e94d170456788f02472397f247e": {
      "model_module": "@jupyter-widgets/controls",
      "model_module_version": "1.5.0",
      "model_name": "DescriptionStyleModel",
      "state": {
       "_model_module": "@jupyter-widgets/controls",
       "_model_module_version": "1.5.0",
       "_model_name": "DescriptionStyleModel",
       "_view_count": null,
       "_view_module": "@jupyter-widgets/base",
       "_view_module_version": "1.2.0",
       "_view_name": "StyleView",
       "description_width": ""
      }
     },
     "b7df85c9dcca44129b3df9f62c6160e8": {
      "model_module": "@jupyter-widgets/controls",
      "model_module_version": "1.5.0",
      "model_name": "DescriptionStyleModel",
      "state": {
       "_model_module": "@jupyter-widgets/controls",
       "_model_module_version": "1.5.0",
       "_model_name": "DescriptionStyleModel",
       "_view_count": null,
       "_view_module": "@jupyter-widgets/base",
       "_view_module_version": "1.2.0",
       "_view_name": "StyleView",
       "description_width": ""
      }
     },
     "b90eb572e42245508e8c583028ec6da4": {
      "model_module": "@jupyter-widgets/base",
      "model_module_version": "1.2.0",
      "model_name": "LayoutModel",
      "state": {
       "_model_module": "@jupyter-widgets/base",
       "_model_module_version": "1.2.0",
       "_model_name": "LayoutModel",
       "_view_count": null,
       "_view_module": "@jupyter-widgets/base",
       "_view_module_version": "1.2.0",
       "_view_name": "LayoutView",
       "align_content": null,
       "align_items": null,
       "align_self": null,
       "border": null,
       "bottom": null,
       "display": null,
       "flex": null,
       "flex_flow": null,
       "grid_area": null,
       "grid_auto_columns": null,
       "grid_auto_flow": null,
       "grid_auto_rows": null,
       "grid_column": null,
       "grid_gap": null,
       "grid_row": null,
       "grid_template_areas": null,
       "grid_template_columns": null,
       "grid_template_rows": null,
       "height": null,
       "justify_content": null,
       "justify_items": null,
       "left": null,
       "margin": null,
       "max_height": null,
       "max_width": null,
       "min_height": null,
       "min_width": null,
       "object_fit": null,
       "object_position": null,
       "order": null,
       "overflow": null,
       "overflow_x": null,
       "overflow_y": null,
       "padding": null,
       "right": null,
       "top": null,
       "visibility": null,
       "width": null
      }
     }
    },
    "version_major": 2,
    "version_minor": 0
   }
  }
 },
 "nbformat": 4,
 "nbformat_minor": 4
}
